{
 "cells": [
  {
   "cell_type": "code",
   "execution_count": 1,
   "metadata": {},
   "outputs": [],
   "source": [
    "import numpy as np\n",
    "import pandas as pd\n",
    "from sklearn.ensemble import RandomForestClassifier\n",
    "from sklearn.metrics import accuracy_score\n",
    "from sklearn.model_selection import KFold,cross_val_score,train_test_split"
   ]
  },
  {
   "cell_type": "code",
   "execution_count": 8,
   "metadata": {},
   "outputs": [],
   "source": [
    "import numpy as np\n",
    "import pandas as pd\n",
    "from sklearn.svm import SVC\n",
    "from sklearn.metrics import accuracy_score\n",
    "from sklearn.model_selection import KFold, cross_val_score, train_test_split\n",
    "import random\n"
   ]
  },
  {
   "cell_type": "code",
   "execution_count": 10,
   "metadata": {},
   "outputs": [],
   "source": [
    "\n",
    "def process_data(data,selected_features=0):\n",
    "    if(selected_features==0):\n",
    "        x = data.drop(columns=\"Class\")\n",
    "    else:\n",
    "        x = data[selected_features]\n",
    "    y = data[\"Class\"]\n",
    "    y = data[\"Class\"]\n",
    "    if y.dtype == object:\n",
    "        from sklearn.preprocessing import LabelEncoder\n",
    "        le = LabelEncoder()\n",
    "        y = le.fit_transform(y)\n",
    "    x_train, x_test, y_train, y_test = train_test_split(x, y, train_size=0.7, test_size=0.3, shuffle=True)\n",
    "    print(x_train.shape)\n",
    "    print(y_train.shape)\n",
    "    gama = ['scale', 'auto']\n",
    "    k = ['linear', 'poly', 'rbf', 'sigmoid', 'precomputed']\n",
    "    c = 1.0\n",
    "    cv = KFold(5)\n",
    "    results = {}\n",
    "\n",
    "    for i in range(3):\n",
    "        gamma_choice = gama[random.randint(0, 1)]\n",
    "        kernel_choice = k[random.randint(0, 4)]\n",
    "        svm = SVC(gamma=gamma_choice, kernel=kernel_choice, C=c)\n",
    "        svm.fit(x_train, y_train)\n",
    "        cross_score = cross_val_score(svm, x, y, cv=cv)\n",
    "        results[i] = {\n",
    "            'kernel': kernel_choice,\n",
    "            'gamma': gamma_choice,\n",
    "            'C': c,\n",
    "            'score': np.mean(cross_score)\n",
    "        }\n",
    "        svm.feature_names_in_\n",
    "\n",
    "    best_index = max(results, key=lambda i: results[i]['score'])\n",
    "    print(f\"Best Parameters: Kernel={results[best_index]['kernel']}, Gamma={results[best_index]['gamma']}, C={results[best_index]['C']}\")\n",
    "    print(f\"Best Cross-Validation Score: {results[best_index]['score']:.4f}\\n\")\n",
    "    print(f\"All Results: {results}\\n\")\n",
    "\n",
    "    return results\n",
    "\n"
   ]
  },
  {
   "cell_type": "code",
   "execution_count": 11,
   "metadata": {},
   "outputs": [],
   "source": [
    "import random\n",
    "data=pd.read_excel(\"Raisin_Dataset.xlsx\")\n",
    "data=data.sample(n=400)"
   ]
  },
  {
   "cell_type": "code",
   "execution_count": 12,
   "metadata": {},
   "outputs": [
    {
     "name": "stdout",
     "output_type": "stream",
     "text": [
      "(280, 7)\n",
      "(280,)\n",
      "Best Parameters: Kernel=linear, Gamma=auto, C=1.0\n",
      "Best Cross-Validation Score: 0.8700\n",
      "\n",
      "All Results: {0: {'kernel': 'rbf', 'gamma': 'scale', 'C': 1.0, 'score': 0.8625}, 1: {'kernel': 'rbf', 'gamma': 'auto', 'C': 1.0, 'score': 0.46749999999999997}, 2: {'kernel': 'linear', 'gamma': 'auto', 'C': 1.0, 'score': 0.8700000000000001}}\n",
      "\n"
     ]
    },
    {
     "data": {
      "text/plain": [
       "{0: {'kernel': 'rbf', 'gamma': 'scale', 'C': 1.0, 'score': 0.8625},\n",
       " 1: {'kernel': 'rbf', 'gamma': 'auto', 'C': 1.0, 'score': 0.46749999999999997},\n",
       " 2: {'kernel': 'linear',\n",
       "  'gamma': 'auto',\n",
       "  'C': 1.0,\n",
       "  'score': 0.8700000000000001}}"
      ]
     },
     "execution_count": 12,
     "metadata": {},
     "output_type": "execute_result"
    }
   ],
   "source": [
    "process_data(data,0) "
   ]
  },
  {
   "cell_type": "code",
   "execution_count": 42,
   "metadata": {},
   "outputs": [
    {
     "name": "stdout",
     "output_type": "stream",
     "text": [
      "(350, 8)\n",
      "(350,)\n",
      "Best Parameters: Kernel=linear, Gamma=auto, C=1.0\n",
      "Best Cross-Validation Score: 0.9040\n",
      "\n",
      "All Results: {0: {'kernel': 'sigmoid', 'gamma': 'auto', 'C': 1.0, 'score': 0.256}, 1: {'kernel': 'poly', 'gamma': 'scale', 'C': 1.0, 'score': 0.6199999999999999}, 2: {'kernel': 'linear', 'gamma': 'auto', 'C': 1.0, 'score': 0.9039999999999999}}\n",
      "\n"
     ]
    },
    {
     "data": {
      "text/plain": [
       "{0: {'kernel': 'sigmoid', 'gamma': 'auto', 'C': 1.0, 'score': 0.256},\n",
       " 1: {'kernel': 'poly',\n",
       "  'gamma': 'scale',\n",
       "  'C': 1.0,\n",
       "  'score': 0.6199999999999999},\n",
       " 2: {'kernel': 'linear',\n",
       "  'gamma': 'auto',\n",
       "  'C': 1.0,\n",
       "  'score': 0.9039999999999999}}"
      ]
     },
     "execution_count": 42,
     "metadata": {},
     "output_type": "execute_result"
    }
   ],
   "source": [
    "data=pd.read_csv(\"Dry_Bean.csv\")\n",
    "data=data.sample(n=500)\n",
    "selected_features = ['Area', 'Perimeter', 'MajorAxisLength', 'Eccentricity', 'ConvexArea', 'AspectRation', 'Solidity', 'roundness']\n",
    "process_data(data,selected_features)\n"
   ]
  }
 ],
 "metadata": {
  "kernelspec": {
   "display_name": "Python 3 (ipykernel)",
   "language": "python",
   "name": "python3"
  },
  "language_info": {
   "codemirror_mode": {
    "name": "ipython",
    "version": 3
   },
   "file_extension": ".py",
   "mimetype": "text/x-python",
   "name": "python",
   "nbconvert_exporter": "python",
   "pygments_lexer": "ipython3",
   "version": "3.8.2"
  }
 },
 "nbformat": 4,
 "nbformat_minor": 4
}
