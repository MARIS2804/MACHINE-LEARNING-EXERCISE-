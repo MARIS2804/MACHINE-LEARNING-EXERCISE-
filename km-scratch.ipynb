{
 "cells": [
  {
   "cell_type": "code",
   "execution_count": 76,
   "id": "71761333-98af-4df2-923a-c3ab69a8f1ee",
   "metadata": {},
   "outputs": [],
   "source": [
    "import numpy as np\n",
    "\n",
    "def k_means(data, cluster):\n",
    "    idd = 0\n",
    "    while idd < 5:\n",
    "        idd += 1\n",
    "        print(\"Iteration =\", idd)\n",
    "        \n",
    "        dis = []\n",
    "        assi = []\n",
    "        \n",
    "        for i in data:\n",
    "            distances = []\n",
    "            for j in cluster:\n",
    "                dis1 = np.sqrt((i[0] - j[0])**2 + (i[1] - j[1])**2)\n",
    "                distances.append(dis1)\n",
    "            dis.append(distances)\n",
    "            distances = np.array(distances)\n",
    "            assign = np.argmin(distances)\n",
    "            assi.append(assign)\n",
    "        \n",
    "        group = {}\n",
    "        for i in range(len(cluster)):  \n",
    "            cluster_points = [data[j] for j in range(len(data)) if assi[j] == i]\n",
    "            group[i] = cluster_points\n",
    "        \n",
    "        new_clusters = []\n",
    "        for i in group.values():\n",
    "            if len(i) > 0:\n",
    "                points = np.array(i)\n",
    "                mean = np.mean(points, axis=0)  \n",
    "                mean = np.round(mean)  \n",
    "                new_clusters.append(mean.tolist())\n",
    "        \n",
    "        #print(\"Cluster Centroids = \", cluster)\n",
    "        #print(\"Assignments = \", assi)\n",
    "        print(\"Groups = \", group)\n",
    "        print(\"New Centroids = \", new_clusters)\n",
    "        \n",
    "        if np.allclose(cluster, new_clusters):\n",
    "            break\n",
    "        else:\n",
    "            cluster = new_clusters\n",
    "        \n",
    "        print(\"\\n\")\n",
    "    \n",
    "    return cluster, assi ,group\n",
    "\n",
    "\n"
   ]
  },
  {
   "cell_type": "code",
   "execution_count": 77,
   "id": "f62b0ec8-aac9-4422-839d-2f5c1dab06ce",
   "metadata": {
    "scrolled": false
   },
   "outputs": [
    {
     "name": "stdout",
     "output_type": "stream",
     "text": [
      "Iteration = 1\n",
      "Groups =  {0: [(1, 2), (7, 2)], 1: [(2, 6), (3, 10), (3, 8), (4, 6), (6, 9), (6, 5), (7, 5), (4, 7)], 2: [(12, 10), (14, 9), (15, 10), (6, 11), (15, 4), (15, 18)]}\n",
      "New Centroids =  [[4.0, 2.0], [4.0, 7.0], [13.0, 10.0]]\n",
      "\n",
      "\n",
      "Iteration = 2\n",
      "Groups =  {0: [(1, 2), (7, 2)], 1: [(2, 6), (3, 10), (3, 8), (4, 6), (6, 9), (6, 11), (6, 5), (7, 5), (4, 7)], 2: [(12, 10), (14, 9), (15, 10), (15, 4), (15, 18)]}\n",
      "New Centroids =  [[4.0, 2.0], [5.0, 7.0], [14.0, 10.0]]\n",
      "\n",
      "\n",
      "Iteration = 3\n",
      "Groups =  {0: [(1, 2), (7, 2)], 1: [(2, 6), (3, 10), (3, 8), (4, 6), (6, 9), (6, 11), (6, 5), (7, 5), (4, 7)], 2: [(12, 10), (14, 9), (15, 10), (15, 4), (15, 18)]}\n",
      "New Centroids =  [[4.0, 2.0], [5.0, 7.0], [14.0, 10.0]]\n",
      "\n",
      "Final Clusters: [[4.0, 2.0], [5.0, 7.0], [14.0, 10.0]]\n",
      "Final Assignment of points: [0, 1, 2, 1, 1, 2, 1, 2, 1, 1, 1, 1, 2, 0, 2, 1]\n"
     ]
    }
   ],
   "source": [
    "data = [(1,2), (2,6), (12,10), (3,10), (3,8), (14,9), (4,6), (15,10),\n",
    "        (6,9), (6,11), (6,5), (7,5), (15,4), (7,2), (15,18), (4,7)]\n",
    "\n",
    "initial_clusters = [(1,2), (2,6), (12,10)]  \n",
    "\n",
    "final_clusters, final_assignment, final_group = k_means(data, initial_clusters)\n",
    "print()\n",
    "print(\"Final Clusters:\", final_clusters)\n",
    "print(\"Final Assignment of points:\", final_assignment)\n",
    "#plot_clusters(data, initial_clusters, final_clusters)"
   ]
  },
  {
   "cell_type": "code",
   "execution_count": 78,
   "id": "ecdc0073",
   "metadata": {},
   "outputs": [
    {
     "data": {
      "image/png": "[encoded data removed]",
      "text/plain": [
       "<Figure size 640x480 with 1 Axes>"
      ]
     },
     "metadata": {},
     "output_type": "display_data"
    }
   ],
   "source": [
    "import matplotlib.pyplot as plt\n",
    "k=['red','blue','green','indigo']\n",
    "j=0\n",
    "for x in final_group.values():\n",
    "  for i in x:\n",
    "    plt.scatter(x=i[0],y=i[1],color=k[j])\n",
    "  j+=1\n",
    "j=0\n",
    "for i in final_clusters:\n",
    "    plt.scatter(x=i[0],y=i[1],marker=\"x\",color=\"black\")\n",
    "    j+=1\n",
    "plt.show()"
   ]
  },
  {
   "cell_type": "code",
   "execution_count": 79,
   "id": "935cb17a",
   "metadata": {},
   "outputs": [
    {
     "name": "stdout",
     "output_type": "stream",
     "text": [
      "WITHIN CLUSTER DISTANCE= 46.98679945946545\n"
     ]
    }
   ],
   "source": [
    "from scipy.spatial.distance import cdist\n",
    "\n",
    "within_cluster_distances= np.sum(np.min(cdist(data, final_clusters, 'euclidean'), axis=1))\n",
    "print(\"WITHIN CLUSTER DISTANCE=\",within_cluster_distances)"
   ]
  },
  {
   "cell_type": "code",
   "execution_count": null,
   "id": "e55a370a",
   "metadata": {},
   "outputs": [],
   "source": []
  },
  {
   "cell_type": "code",
   "execution_count": 80,
   "id": "035ccff0",
   "metadata": {},
   "outputs": [
    {
     "name": "stdout",
     "output_type": "stream",
     "text": [
      "DISTANCE BETWEEN CLUSTER  1 CLUSTER  2  IS 5.0990195135927845\n",
      "DISTANCE BETWEEN CLUSTER  1 CLUSTER  3  IS 12.806248474865697\n",
      "DISTANCE BETWEEN CLUSTER  2 CLUSTER  1  IS 5.0990195135927845\n",
      "DISTANCE BETWEEN CLUSTER  2 CLUSTER  3  IS 9.486832980505138\n",
      "DISTANCE BETWEEN CLUSTER  3 CLUSTER  1  IS 12.806248474865697\n",
      "DISTANCE BETWEEN CLUSTER  3 CLUSTER  2  IS 9.486832980505138\n"
     ]
    }
   ],
   "source": [
    "ii=1\n",
    "for i in final_clusters:\n",
    "    iii=1\n",
    "    for j in final_clusters:\n",
    "        if i!=j:\n",
    "            dis1 = np.sqrt((i[0] - j[0])**2 + (i[1] - j[1])**2)\n",
    "            print(\"DISTANCE BETWEEN CLUSTER \",ii,\"CLUSTER \",iii,\" IS\",dis1)\n",
    "        iii+=1\n",
    "    ii+=1"
   ]
  },
  {
   "cell_type": "code",
   "execution_count": null,
   "id": "c75baeb8",
   "metadata": {},
   "outputs": [],
   "source": []
  }
 ],
 "metadata": {
  "kernelspec": {
   "display_name": "Python 3 (ipykernel)",
   "language": "python",
   "name": "python3"
  },
  "language_info": {
   "codemirror_mode": {
    "name": "ipython",
    "version": 3
   },
   "file_extension": ".py",
   "mimetype": "text/x-python",
   "name": "python",
   "nbconvert_exporter": "python",
   "pygments_lexer": "ipython3",
   "version": "3.11.4"
  }
 },
 "nbformat": 4,
 "nbformat_minor": 5
}
