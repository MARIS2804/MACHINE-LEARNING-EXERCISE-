{
 "cells": [
  {
   "cell_type": "code",
   "execution_count": 22,
   "id": "beb85b10",
   "metadata": {},
   "outputs": [],
   "source": [
    "import pandas as pd\n",
    "from sklearn.model_selection import train_test_split\n",
    "from sklearn.naive_bayes import GaussianNB\n",
    "from sklearn.ensemble import RandomForestClassifier\n",
    "from sklearn.svm import SVC\n",
    "from sklearn.linear_model import LogisticRegression\n",
    "from sklearn.metrics import accuracy_score, precision_score\n",
    "from sklearn.preprocessing import StandardScaler, LabelEncoder\n",
    "import numpy as np"
   ]
  },
  {
   "cell_type": "code",
   "execution_count": 60,
   "id": "944b24b4",
   "metadata": {},
   "outputs": [],
   "source": [
    "def model_train(X_train,y_train,X_test,y_test):\n",
    "    scaler = StandardScaler()\n",
    "    X_train_scaled = scaler.fit_transform(X_train)\n",
    "    X_test_scaled = scaler.transform(X_test)\n",
    "\n",
    "    models = {\n",
    "    'Naive Bayes': GaussianNB(),\n",
    "    'Random Forest': RandomForestClassifier(n_estimators=10),\n",
    "    'SVM': SVC(kernel='linear'),\n",
    "    'Logistic Regression': LogisticRegression()\n",
    "    }\n",
    "\n",
    "    results = {}\n",
    "    for name, model in models.items():\n",
    "        if name in ['SVM', 'Logistic Regression']:\n",
    "            model.fit(X_train_scaled, y_train)\n",
    "            y_pred = model.predict(X_test_scaled)\n",
    "        else:\n",
    "            model.fit(X_train, y_train)\n",
    "            y_pred = model.predict(X_test)\n",
    "    \n",
    "        accuracy = accuracy_score(y_test, y_pred)\n",
    "        precision = precision_score(y_test, y_pred)\n",
    "        results[name] = {'Accuracy': accuracy, 'Precision': precision}\n",
    "\n",
    "    maxi=0\n",
    "    for model_name, metrics in results.items():\n",
    "        print(f\"{model_name} - Accuracy: {metrics['Accuracy']:.4f}, Precision: {metrics['Precision']:.4f}\")\n",
    "        if maxi<metrics['Accuracy']:\n",
    "            maxi=metrics['Accuracy']\n",
    "            name=model_name\n",
    "    print(\"Best model=\",name)\n",
    "    print(\"Best accuracy=\",maxi)\n",
    "    \n"
   ]
  },
  {
   "cell_type": "code",
   "execution_count": 61,
   "id": "71200c35",
   "metadata": {},
   "outputs": [
    {
     "name": "stdout",
     "output_type": "stream",
     "text": [
      "Naive Bayes - Accuracy: 0.9151, Precision: 0.9112\n",
      "Random Forest - Accuracy: 0.9134, Precision: 0.9161\n",
      "SVM - Accuracy: 0.9283, Precision: 0.9236\n",
      "Logistic Regression - Accuracy: 0.9300, Precision: 0.9238\n",
      "Best model= Logistic Regression\n",
      "Best accuracy= 0.9300087489063867\n"
     ]
    }
   ],
   "source": [
    "from scipy.io import arff\n",
    "\n",
    "data = arff.loadarff(\"Rice_Cammeo_Osmancik.arff\")[0]\n",
    "df = pd.DataFrame(data)\n",
    "\n",
    "df['Class'] = df['Class'].apply(lambda x: x.decode('utf-8'))\n",
    "\n",
    "\n",
    "\n",
    "X = df[['Area', 'Perimeter', 'Major_Axis_Length', 'Minor_Axis_Length', 'Eccentricity', 'Convex_Area', 'Extent']]\n",
    "y = df['Class'].apply(lambda x: 1 if x == 'Osmancik' else 0)  # Encoding the target variable\n",
    "\n",
    "\n",
    "X_train, X_test, y_train, y_test = train_test_split(X, y, test_size=0.30, random_state=42)\n",
    "\n",
    "\n",
    "model_train(X_train,y_train,X_test,y_test)\n"
   ]
  },
  {
   "cell_type": "code",
   "execution_count": 62,
   "id": "d6bb20ba",
   "metadata": {},
   "outputs": [
    {
     "name": "stdout",
     "output_type": "stream",
     "text": [
      "[' <=50K' ' >50K']\n",
      "[0 1]\n",
      "Naive Bayes - Accuracy: 0.7992, Precision: 0.6600\n",
      "Random Forest - Accuracy: 0.8468, Precision: 0.7176\n",
      "SVM - Accuracy: 0.8482, Precision: 0.7341\n",
      "Logistic Regression - Accuracy: 0.8519, Precision: 0.7297\n",
      "Best model= Logistic Regression\n",
      "Best accuracy= 0.8518783908281298\n"
     ]
    }
   ],
   "source": [
    "df = pd.read_csv(\"adult.data\", header=None, delimiter=',', \n",
    "                 names=[\"age\", \"workclass\", \"fnlwgt\", \"education\", \"education-num\", \"marital-status\", \n",
    "                        \"occupation\", \"relationship\", \"race\", \"sex\", \"capital-gain\", \n",
    "                        \"capital-loss\", \"hours-per-week\", \"native-country\", \"income\"])\n",
    "print(df.income.unique())\n",
    "df['workclass'].replace(' ?', df['workclass'].mode()[0], inplace=True)\n",
    "df['occupation'].replace(' ?', df['occupation'].mode()[0], inplace=True)\n",
    "df['native-country'].replace(' ?', df['native-country'].mode()[0], inplace=True)\n",
    "\n",
    "categorical_cols = ['workclass', 'education', 'marital-status', 'occupation', \n",
    "                    'relationship', 'race', 'sex', 'native-country']\n",
    "df = pd.get_dummies(df, columns=categorical_cols, drop_first=True)\n",
    "#print(df.head())\n",
    "X = df.drop('income', axis=1)\n",
    "y = df['income'].apply(lambda x: 1 if x == ' >50K' else 0)  \n",
    "X_train, X_test, y_train, y_test = train_test_split(X, y, test_size=0.30, random_state=42)\n",
    "print(y.unique())\n",
    "\n",
    "model_train(X_train,y_train,X_test,y_test)"
   ]
  },
  {
   "cell_type": "code",
   "execution_count": 63,
   "id": "cb20ee44",
   "metadata": {},
   "outputs": [
    {
     "name": "stdout",
     "output_type": "stream",
     "text": [
      "Naive Bayes - Accuracy: 0.7895, Precision: 0.7500\n",
      "Random Forest - Accuracy: 0.7368, Precision: 0.6667\n",
      "SVM - Accuracy: 0.7895, Precision: 0.7500\n",
      "Logistic Regression - Accuracy: 0.6842, Precision: 0.5000\n",
      "Best model= Naive Bayes\n",
      "Best accuracy= 0.7894736842105263\n"
     ]
    }
   ],
   "source": [
    "\n",
    "df = pd.read_csv(\"echocardiogram.data\", header=None, delimiter=',', \n",
    "                 names=['survival', 'still-alive', 'age-at-heart-attack', 'pericardial-effusion', 'fractional-shortening', \n",
    "                        'epss', 'lvdd', 'wall-motion-score', 'wall-motion-index', 'mult', 'name', 'group', 'alive-at-1'],\n",
    "                 on_bad_lines='skip')\n",
    "\n",
    "df.replace('?', np.nan, inplace=True)\n",
    "\n",
    "for column in ['survival', 'still-alive', 'age-at-heart-attack', 'fractional-shortening', 'epss', \n",
    "               'lvdd', 'wall-motion-score', 'wall-motion-index', 'mult', 'alive-at-1']:\n",
    "    df[column] = pd.to_numeric(df[column], errors='coerce')\n",
    "\n",
    "df.drop(columns=['group'], inplace=True)\n",
    "\n",
    "df.dropna(subset=['alive-at-1'], inplace=True)\n",
    "\n",
    "df.dropna(inplace=True)\n",
    "\n",
    "label_encoder = LabelEncoder()\n",
    "df['name'] = label_encoder.fit_transform(df['name'])\n",
    "\n",
    "features = ['age-at-heart-attack', 'pericardial-effusion', 'fractional-shortening', 'epss', \n",
    "            'lvdd', 'wall-motion-score', 'wall-motion-index', 'mult', 'name']\n",
    "target = 'alive-at-1'\n",
    "\n",
    "X = df[features]\n",
    "y = df[target].astype(int) \n",
    "\n",
    "X_train, X_test, y_train, y_test = train_test_split(X, y, test_size=0.30, random_state=42)\n",
    "model_train(X_train,y_train,X_test,y_test)"
   ]
  },
  {
   "cell_type": "code",
   "execution_count": null,
   "id": "014e9ea5",
   "metadata": {},
   "outputs": [],
   "source": []
  }
 ],
 "metadata": {
  "kernelspec": {
   "display_name": "Python 3 (ipykernel)",
   "language": "python",
   "name": "python3"
  },
  "language_info": {
   "codemirror_mode": {
    "name": "ipython",
    "version": 3
   },
   "file_extension": ".py",
   "mimetype": "text/x-python",
   "name": "python",
   "nbconvert_exporter": "python",
   "pygments_lexer": "ipython3",
   "version": "3.11.4"
  }
 },
 "nbformat": 4,
 "nbformat_minor": 5
}
