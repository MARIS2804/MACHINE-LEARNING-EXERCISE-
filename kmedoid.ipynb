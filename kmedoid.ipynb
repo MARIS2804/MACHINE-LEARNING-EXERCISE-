{
 "cells": [
  {
   "cell_type": "code",
   "execution_count": 1,
   "id": "0a90412b",
   "metadata": {},
   "outputs": [],
   "source": [
    "def kmedoid(data,cluster):\n",
    "    cost=[]\n",
    "    for i in data:\n",
    "        a=[]\n",
    "        for j in cluster:\n",
    "           cost1=abs((i[0]-j[0])+(i[1]-j[1]))\n",
    "           a.append(cost1)\n",
    "        cost.append(min(a))\n",
    "    return sum(cost)"
   ]
  },
  {
   "cell_type": "code",
   "execution_count": 29,
   "id": "1e2394f1",
   "metadata": {},
   "outputs": [
    {
     "name": "stdout",
     "output_type": "stream",
     "text": [
      "COST 1 =  38\n"
     ]
    }
   ],
   "source": [
    "data = [(1,2), (2,6), (12,10), (3,10), (3,8), (14,9), (4,6), (15,10),\n",
    "        (6,9), (6,11), (6,5), (7,5), (15,4), (7,2), (15,18), (4,7)]\n",
    "\n",
    "clusters1 = [ (12,10), (7,2), (4,7)]  \n",
    "\n",
    "cost1 = kmedoid(data, clusters1)\n",
    "print(\"COST 1 = \",cost1)"
   ]
  },
  {
   "cell_type": "code",
   "execution_count": 30,
   "id": "f08a46d1",
   "metadata": {},
   "outputs": [
    {
     "name": "stdout",
     "output_type": "stream",
     "text": [
      "COST 2 =  43\n"
     ]
    }
   ],
   "source": [
    "data = [(1,2), (2,6), (12,10), (3,10), (3,8), (14,9), (4,6), (15,10),\n",
    "        (6,9), (6,11), (6,5), (7,5), (15,4), (7,2), (15,18), (4,7)]\n",
    "\n",
    "clusters2 = [(12,10), (7,2), (4,6)]  \n",
    "\n",
    "cost2 = kmedoid(data, clusters2)\n",
    "print(\"COST 2 = \",cost2)"
   ]
  },
  {
   "cell_type": "code",
   "execution_count": 14,
   "id": "a178edc4",
   "metadata": {},
   "outputs": [
    {
     "name": "stdout",
     "output_type": "stream",
     "text": [
      "CLUSTER 1 IS BEST COMBINATION\n",
      "CLUSTER 1= [(12, 10), (7, 2), (4, 7)]\n"
     ]
    }
   ],
   "source": [
    "if cost1>cost2:\n",
    "    print(\"CLUSTER 2 IS BEST COMBINATION\")\n",
    "    print(\"CLUSTER 2=\",clusters2)\n",
    "    cluster=clusters2\n",
    "else:\n",
    "    print(\"CLUSTER 1 IS BEST COMBINATION\")\n",
    "    print(\"CLUSTER 1=\",clusters1)\n",
    "    cluster=clusters1"
   ]
  },
  {
   "cell_type": "code",
   "execution_count": 23,
   "id": "425a2bba",
   "metadata": {
    "scrolled": false
   },
   "outputs": [
    {
     "data": {
      "image/png": "[encoded data removed]",
      "text/plain": [
       "<Figure size 640x480 with 1 Axes>"
      ]
     },
     "metadata": {},
     "output_type": "display_data"
    }
   ],
   "source": [
    "import matplotlib.pyplot as plt\n",
    "k=['red','blue','green','indigo']\n",
    "for i in data:\n",
    "    plt.scatter(x=i[0],y=i[1])\n",
    "j=0\n",
    "for i in cluster:\n",
    "    plt.scatter(x=i[0],y=i[1],marker=\"o\",color=\"black\")\n",
    "plt.show()"
   ]
  },
  {
   "cell_type": "code",
   "execution_count": null,
   "id": "4bd2d32e",
   "metadata": {},
   "outputs": [],
   "source": []
  }
 ],
 "metadata": {
  "kernelspec": {
   "display_name": "Python 3 (ipykernel)",
   "language": "python",
   "name": "python3"
  },
  "language_info": {
   "codemirror_mode": {
    "name": "ipython",
    "version": 3
   },
   "file_extension": ".py",
   "mimetype": "text/x-python",
   "name": "python",
   "nbconvert_exporter": "python",
   "pygments_lexer": "ipython3",
   "version": "3.11.4"
  }
 },
 "nbformat": 4,
 "nbformat_minor": 5
}
