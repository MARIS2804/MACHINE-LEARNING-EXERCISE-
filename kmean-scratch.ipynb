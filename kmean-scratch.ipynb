{
 "cells": [
  {
   "cell_type": "code",
   "execution_count": null,
   "id": "69d64059",
   "metadata": {},
   "outputs": [],
   "source": [
    "1-get datapoints\n",
    "2-get cluster point\n",
    "3-find distance for each cluster \n",
    "4-assign cluster and group it\n",
    "5-"
   ]
  },
  {
   "cell_type": "code",
   "execution_count": 27,
   "id": "5c066e6c",
   "metadata": {},
   "outputs": [],
   "source": [
    "import numpy as np\n",
    "def k_means(data,cluster):\n",
    "    dis=[]\n",
    "    assi=[]\n",
    "    for i in data:\n",
    "        k=[]\n",
    "        for j in cluster:\n",
    "            dis1=abs((i[0]-j[0])+(i[1]-j[1]))\n",
    "            k.append(dis1)\n",
    "        dis.append(k)\n",
    "        k=np.array(k)\n",
    "        assign=np.argmin(k)+1\n",
    "        assi.append(assign)\n",
    "    print(\"DISTANCE=\",dis)\n",
    "    print(\"ASSIGNED CLUSTER=\",assi)\n",
    "            "
   ]
  },
  {
   "cell_type": "code",
   "execution_count": 28,
   "id": "cdb033be",
   "metadata": {},
   "outputs": [
    {
     "name": "stdout",
     "output_type": "stream",
     "text": [
      "DISTANCE= [[2.2, 2], [0.20000000000000018, 0], [3.8, 4], [5.2, 5]]\n",
      "ASSIGNED CLUSTER= [2, 2, 1, 2]\n"
     ]
    }
   ],
   "source": [
    "data=[[1,2],[2,3],[4,5],[0,0]]\n",
    "cluster=[[2,3.2],[2,3]]\n",
    "k_means(data,cluster)"
   ]
  },
  {
   "cell_type": "code",
   "execution_count": null,
   "id": "d40d7a21",
   "metadata": {},
   "outputs": [],
   "source": []
  }
 ],
 "metadata": {
  "kernelspec": {
   "display_name": "Python 3 (ipykernel)",
   "language": "python",
   "name": "python3"
  },
  "language_info": {
   "codemirror_mode": {
    "name": "ipython",
    "version": 3
   },
   "file_extension": ".py",
   "mimetype": "text/x-python",
   "name": "python",
   "nbconvert_exporter": "python",
   "pygments_lexer": "ipython3",
   "version": "3.11.4"
  }
 },
 "nbformat": 4,
 "nbformat_minor": 5
}
